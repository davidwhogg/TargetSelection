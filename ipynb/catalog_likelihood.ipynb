{
  "nbformat": 4,
  "nbformat_minor": 0,
  "metadata": {
    "colab": {
      "name": "catalog_likelihood.ipynb",
      "version": "0.3.2",
      "provenance": [],
      "collapsed_sections": [],
      "include_colab_link": true
    },
    "kernelspec": {
      "name": "python3",
      "display_name": "Python 3"
    }
  },
  "cells": [
    {
      "cell_type": "markdown",
      "metadata": {
        "id": "view-in-github",
        "colab_type": "text"
      },
      "source": [
        "<a href=\"https://colab.research.google.com/github/davidwhogg/TargetSelection/blob/master/ipynb/catalog_likelihood.ipynb\" target=\"_parent\"><img src=\"https://colab.research.google.com/assets/colab-badge.svg\" alt=\"Open In Colab\"/></a>"
      ]
    },
    {
      "cell_type": "code",
      "metadata": {
        "id": "2YmsPDoOBxsZ",
        "colab_type": "code",
        "colab": {}
      },
      "source": [
        "import numpy as np\n",
        "import matplotlib\n",
        "import pylab as plt\n",
        "!pip install emcee\n",
        "import emcee\n",
        "!pip install corner\n",
        "import corner\n",
        "%matplotlib inline\n",
        "np.random.seed(42)"
      ],
      "execution_count": 0,
      "outputs": []
    },
    {
      "cell_type": "code",
      "metadata": {
        "id": "B3cpwqisB40E",
        "colab_type": "code",
        "colab": {}
      },
      "source": [
        "# make a log-normal universe of uncensored sources\n",
        "def make_universe(N, mean=0.5, sigma=1.):\n",
        "  x = np.exp(sigma * (mean + np.random.normal(size=N)))\n",
        "  return x\n",
        "\n",
        "def ln_censoring(xs, cutoff):\n",
        "  ys = np.zeros_like(xs)\n",
        "  ys[xs < cutoff] = -np.inf\n",
        "  return ys\n",
        "\n",
        "def censoring(xs, cutoff):\n",
        "  return np.exp(ln_censoring(xs, cutoff))\n",
        "\n",
        "# censoring to make catalog\n",
        "def make_catalog(xs, cutoff=3.):\n",
        "  return xs[np.log(np.random.uniform(size=len(xs))) < ln_censoring(xs, cutoff)]"
      ],
      "execution_count": 0,
      "outputs": []
    },
    {
      "cell_type": "code",
      "metadata": {
        "id": "GOkazZFqCzSV",
        "colab_type": "code",
        "colab": {}
      },
      "source": [
        "  # make the universe and a histogram of it\n",
        "u_xs = make_universe(8192)\n",
        "binwidth = 0.1\n",
        "bins = np.arange(0., 8., binwidth)\n",
        "uy, foo = plt.histogram(u_xs, bins=bins)\n",
        "xbins = 0.5 * (bins[1:] + bins[:-1])"
      ],
      "execution_count": 0,
      "outputs": []
    },
    {
      "cell_type": "code",
      "metadata": {
        "id": "cYTNs45gC7yJ",
        "colab_type": "code",
        "colab": {}
      },
      "source": [
        "# plot the universe\n",
        "plt.clf()\n",
        "plt.plot(xbins, uy, \"k.\")\n",
        "plt.semilogy()\n",
        "plt.xlim(0., 8.)\n",
        "plt.title(\"universe\")"
      ],
      "execution_count": 0,
      "outputs": []
    },
    {
      "cell_type": "code",
      "metadata": {
        "id": "Ut2Hr4vmC9wp",
        "colab_type": "code",
        "colab": {}
      },
      "source": [
        "# censor the universe to make the catalog\n",
        "c_xs = make_catalog(u_xs)\n",
        "cy, foo = plt.histogram(c_xs, bins=bins)\n",
        "print(c_xs.shape, np.max(c_xs))"
      ],
      "execution_count": 0,
      "outputs": []
    },
    {
      "cell_type": "code",
      "metadata": {
        "id": "PGNeMk5dGxHi",
        "colab_type": "code",
        "colab": {}
      },
      "source": [
        "# plot the catalog\n",
        "plt.clf()\n",
        "plt.plot(xbins, cy, \"k.\")\n",
        "plt.semilogy()\n",
        "plt.xlim(0, 8.)\n",
        "plt.title(\"catalog\")"
      ],
      "execution_count": 0,
      "outputs": []
    },
    {
      "cell_type": "code",
      "metadata": {
        "id": "hi0uzLiiG-VJ",
        "colab_type": "code",
        "colab": {}
      },
      "source": [
        "# functions for use in the likelihood\n",
        "def ln_lognormal(xs, mean, sigma):\n",
        "  lnxs = np.log(xs)\n",
        "  return -0.5 * (lnxs - mean) ** 2 / sigma ** 2 - 0.5 * np.log(2. * np.pi * sigma ** 2) - lnxs\n",
        "\n",
        "def lognormal(xs, mean, sigma):\n",
        "  return np.exp(ln_lognormal(xs, mean, sigma))\n",
        "\n",
        "def censored_model(pars, xs):\n",
        "  lnamp, mean, sigma, cutoff = pars\n",
        "  return np.exp(lnamp + ln_lognormal(xs, mean, sigma) + ln_censoring(xs, cutoff))\n",
        "\n",
        "# integrate the censored model\n",
        "# HACK MAGIC: fixed integration grid; that's bad\n",
        "def expected_number(pars):\n",
        "  dx = 0.01\n",
        "  xs = np.arange(0. + 0.5 * dx, 64., dx)\n",
        "  ys = censored_model(pars, xs)\n",
        "  return dx * np.sum(ys)\n",
        "\n",
        "# likelihood function, with switch to make it Loredo-like or not\n",
        "def ln_like(pars, xs, Loredo):\n",
        "  lnamp, mean, sigma, cutoff = pars\n",
        "  amp = np.exp(lnamp)\n",
        "  if Loredo:\n",
        "    sum_term = np.sum(lnamp + ln_lognormal(xs, mean, sigma))\n",
        "  else:\n",
        "    sum_term = np.sum(lnamp + ln_lognormal(xs, mean, sigma) + ln_censoring(xs, cutoff))\n",
        "  return sum_term - expected_number(pars)\n",
        "\n",
        "# prior function\n",
        "def ln_prior(pars):\n",
        "  lnamp, mean, sigma, cutoff = pars\n",
        "  if lnamp < 5.:\n",
        "    return -np.inf\n",
        "  if lnamp > 13.:\n",
        "    return -np.inf\n",
        "  if mean < -5.:\n",
        "    return -np.inf\n",
        "  if mean > 5.:\n",
        "    return -np.inf\n",
        "  if sigma < 0.1:\n",
        "    return -np.inf\n",
        "  if sigma > 3.:\n",
        "    return -np.inf\n",
        "  if cutoff < 0.001:\n",
        "    return -np.inf\n",
        "  if cutoff > 5.:\n",
        "    return -np.inf\n",
        "  return 0.\n",
        "\n",
        "# posterior function\n",
        "def ln_post(pars, data, Loredo):\n",
        "  lnp = ln_prior(pars)\n",
        "  if np.isfinite(lnp):\n",
        "    lnp += ln_like(pars, data, Loredo)\n",
        "  return lnp"
      ],
      "execution_count": 0,
      "outputs": []
    },
    {
      "cell_type": "code",
      "metadata": {
        "id": "2hn1xEgS4YFO",
        "colab_type": "code",
        "colab": {}
      },
      "source": [
        "pars0 = [np.log(8192), -0.5, 1.0, 2.999]\n",
        "print(ln_post(pars0, c_xs, True))\n",
        "print(ln_post(pars0, c_xs, False))\n",
        "print(expected_number(pars0))"
      ],
      "execution_count": 0,
      "outputs": []
    },
    {
      "cell_type": "code",
      "metadata": {
        "id": "FJ9srUadzVDI",
        "colab_type": "code",
        "colab": {}
      },
      "source": [
        "# Sample the DFM LF case\n",
        "nsteps = 512\n",
        "nwalkers = 64\n",
        "ndim = len(pars0)\n",
        "pos = pars0 + 1e-4*np.random.normal(size=(nwalkers, ndim))\n",
        "sampler = emcee.EnsembleSampler(nwalkers, ndim, ln_post, args=(c_xs, False))\n",
        "sampler.run_mcmc(pos, nsteps);\n",
        "# take only the second half\n",
        "DFM_flatchain = sampler.chain[:,-(nsteps // 2):,:].reshape((nwalkers * nsteps // 2), ndim)"
      ],
      "execution_count": 0,
      "outputs": []
    },
    {
      "cell_type": "code",
      "metadata": {
        "id": "d6G5cWhZzVta",
        "colab_type": "code",
        "colab": {}
      },
      "source": [
        "# Plot the DFM LF case\n",
        "import corner\n",
        "figure = corner.corner(DFM_flatchain[-(nsteps * nwalkers // 2):,:])"
      ],
      "execution_count": 0,
      "outputs": []
    },
    {
      "cell_type": "code",
      "metadata": {
        "id": "QmlCL6Vm4TCC",
        "colab_type": "code",
        "colab": {}
      },
      "source": [
        "# plot some DFM samples with the data\n",
        "nsamples, ndim = DFM_flatchain.shape\n",
        "dx = 0.001\n",
        "plotxs = np.arange(0. + 0.5 * dx, 32., dx)\n",
        "plt.clf()\n",
        "js = np.argsort(np.random.uniform(size=nsamples))[0:16]\n",
        "for j in js:\n",
        "  plotys = censored_model(DFM_flatchain[j], plotxs)\n",
        "  plt.plot(plotxs, plotys, \"r-\", alpha=0.2)\n",
        "plt.step(xbins, cy / binwidth, color=\"k\", where=\"mid\", alpha=0.75)\n",
        "plt.xlim(0., 8.)\n",
        "plt.title(\"DFM case\")"
      ],
      "execution_count": 0,
      "outputs": []
    },
    {
      "cell_type": "code",
      "metadata": {
        "id": "ScJvtIQDFmj2",
        "colab_type": "code",
        "colab": {}
      },
      "source": [
        "# Sample the Loredo LF case\n",
        "nsteps = 512\n",
        "nwalkers = 64\n",
        "ndim = len(pars0)\n",
        "pos = pars0 + 1e-4*np.random.normal(size=(nwalkers, ndim))\n",
        "sampler = emcee.EnsembleSampler(nwalkers, ndim, ln_post, args=(c_xs, True))\n",
        "sampler.run_mcmc(pos, nsteps);\n",
        "# take only the second half\n",
        "Loredo_flatchain = sampler.chain[:,-(nsteps // 2):,:].reshape((nwalkers * nsteps // 2), ndim)"
      ],
      "execution_count": 0,
      "outputs": []
    },
    {
      "cell_type": "code",
      "metadata": {
        "id": "i8AM7OgpJQFi",
        "colab_type": "code",
        "colab": {}
      },
      "source": [
        "# Corner-plot the Loredo LF case\n",
        "import corner\n",
        "figure = corner.corner(Loredo_flatchain[-(nsteps * nwalkers // 2):,:])"
      ],
      "execution_count": 0,
      "outputs": []
    },
    {
      "cell_type": "code",
      "metadata": {
        "id": "QUduWi2bJXcO",
        "colab_type": "code",
        "colab": {}
      },
      "source": [
        "# plot some Loredo samples with the data\n",
        "nsamples, ndim = Loredo_flatchain.shape\n",
        "dx = 0.001\n",
        "plotxs = np.arange(0. + 0.5 * dx, 32., dx)\n",
        "plt.clf()\n",
        "js = np.argsort(np.random.uniform(size=nsamples))[0:16]\n",
        "for j in js:\n",
        "  plotys = censored_model(Loredo_flatchain[j], plotxs)\n",
        "  plt.plot(plotxs, plotys, \"r-\", alpha=0.2)\n",
        "plt.step(xbins, cy / binwidth, color=\"k\", where=\"mid\", alpha=0.75)\n",
        "plt.xlim(0., 8.)\n",
        "plt.title(\"Loredo case\")"
      ],
      "execution_count": 0,
      "outputs": []
    },
    {
      "cell_type": "code",
      "metadata": {
        "id": "s64-jWCDJd1M",
        "colab_type": "code",
        "colab": {}
      },
      "source": [
        ""
      ],
      "execution_count": 0,
      "outputs": []
    }
  ]
}