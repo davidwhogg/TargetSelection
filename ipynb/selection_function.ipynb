{
  "nbformat": 4,
  "nbformat_minor": 0,
  "metadata": {
    "colab": {
      "name": "selection_function.ipynb",
      "version": "0.3.2",
      "provenance": [],
      "collapsed_sections": [],
      "include_colab_link": true
    },
    "kernelspec": {
      "name": "python3",
      "display_name": "Python 3"
    }
  },
  "cells": [
    {
      "cell_type": "markdown",
      "metadata": {
        "id": "view-in-github",
        "colab_type": "text"
      },
      "source": [
        "<a href=\"https://colab.research.google.com/github/davidwhogg/TargetSelection/blob/master/ipynb/selection_function.ipynb\" target=\"_parent\"><img src=\"https://colab.research.google.com/assets/colab-badge.svg\" alt=\"Open In Colab\"/></a>"
      ]
    },
    {
      "cell_type": "markdown",
      "metadata": {
        "id": "BSe7O2xuN-gy",
        "colab_type": "text"
      },
      "source": [
        "# Selection Function\n",
        "This notebook is part of the **TargetSelection** project.\n",
        "It is designed to simulate a simple astronomical survey that\n",
        "is being performed to measure simple properties of a set of stars.\n",
        "\n",
        "## Authors\n",
        "- **David W. Hogg** (NYU) (MPIA) (Flatiron)\n",
        "- **Hans-Walter Rix** (MPIA)\n",
        "\n",
        "## License\n",
        "Copyright 2019 the authors. This code is released open source, under the *MIT License*."
      ]
    },
    {
      "cell_type": "code",
      "metadata": {
        "id": "2YmsPDoOBxsZ",
        "colab_type": "code",
        "colab": {}
      },
      "source": [
        "import numpy as np\n",
        "import matplotlib\n",
        "import pylab as plt\n",
        "!pip install emcee\n",
        "import emcee\n",
        "!pip install corner\n",
        "import corner\n",
        "%matplotlib inline\n",
        "np.random.seed(17)"
      ],
      "execution_count": 0,
      "outputs": []
    },
    {
      "cell_type": "code",
      "metadata": {
        "id": "UHX4GaJsHWwL",
        "colab_type": "code",
        "colab": {}
      },
      "source": [
        "# Make a true Galaxy with the following properties:\n",
        "scalelength = 3.0 # kpc\n",
        "scaleheight = 0.25 # kpc\n",
        "size = 32768 * 4 # desired final catalog size (ish)\n",
        "\n",
        "# Initialize arrays\n",
        "Rs = np.array([])\n",
        "phis = np.array([])\n",
        "zs = np.array([])\n",
        "Ntrue = 0\n",
        "\n",
        "# Fill arrays by repeated rejection sampling\n",
        "while Ntrue < size:\n",
        "  xs = 80. * (np.random.uniform(size=size) - 0.5)\n",
        "  ys = 80. * (np.random.uniform(size=size) - 0.5)\n",
        "  tzs = np.random.exponential(scaleheight, size=size)\n",
        "  tzs[np.random.uniform(size=size) < 0.5] *= -1.\n",
        "  tRs = np.sqrt(xs * xs + ys * ys)\n",
        "  tphis = np.arctan2(ys, xs)\n",
        "  keep = np.random.uniform(size=size) < np.exp(-tRs / scalelength)\n",
        "  Rs = np.append(Rs, tRs[keep])\n",
        "  phis = np.append(phis, tphis[keep])\n",
        "  zs = np.append(zs, tzs[keep])\n",
        "  Ntrue = len(Rs)\n",
        "\n",
        "# Make absolute magnitudes, stupidly\n",
        "Ms = 3. * np.random.uniform(size=Ntrue)\n",
        "\n",
        "# Create a trivial structure to hold this all\n",
        "class Truth(object):\n",
        "  Rs = Rs\n",
        "  phis = phis\n",
        "  zs = zs\n",
        "  vecs = np.vstack((Rs * np.cos(phis), Rs * np.sin(phis), zs)).T\n",
        "  Ms = Ms\n",
        "  N = Ntrue\n",
        "  trueids = np.arange(N)"
      ],
      "execution_count": 0,
      "outputs": []
    },
    {
      "cell_type": "code",
      "metadata": {
        "id": "2n4l3l9BRuBM",
        "colab_type": "code",
        "colab": {}
      },
      "source": [
        "# Check that the Truth looks okay\n",
        "plt.figure()\n",
        "plt.scatter(Truth.Rs * np.cos(Truth.phis), Truth.zs, s= 0.01, c=\"k\", alpha=0.5)\n",
        "plt.axis(\"equal\")\n",
        "plt.figure()\n",
        "plt.scatter(Truth.Rs * np.cos(Truth.phis), Truth.Rs * np.sin(Truth.phis), s= 0.01, c=\"k\", alpha=0.5)\n",
        "plt.axis(\"equal\")"
      ],
      "execution_count": 0,
      "outputs": []
    },
    {
      "cell_type": "code",
      "metadata": {
        "id": "VIfTiyPfSDBQ",
        "colab_type": "code",
        "colab": {}
      },
      "source": [
        "# Choose some observed field centers as unit vectors\n",
        "Ntmp = 512\n",
        "uvecs = np.random.normal(size=(Ntmp, 3))\n",
        "uvecs /= np.sqrt(np.sum(uvecs * uvecs, axis=1))[:, None]\n",
        "\n",
        "# Remove any that are too close to any others\n",
        "# (self-avoid)\n",
        "field_radius = 3.5 * np.pi / 180. # radians\n",
        "conflict_matrix = np.sum(uvecs[:, None, :] * uvecs[None, :, :], axis=2) > np.cos(2. * field_radius)\n",
        "conflict_matrix[np.triu_indices(Ntmp)] = False\n",
        "good = np.sum(conflict_matrix, axis=1) == 0\n",
        "uvecs = uvecs[good, :]\n",
        "\n",
        "# Drop to M fields and make a trivial object\n",
        "class Observer(object):\n",
        "  vec = np.array([-8.022, 0., 0.]) # kpc ; should z not be zero??\n",
        "  radius = field_radius # radians\n",
        "  cos_radius = np.cos(field_radius)\n",
        "  M = 128\n",
        "  uvecs = uvecs[:M, :]\n",
        "  fieldids = np.arange(M)\n",
        "  completeness = 1. # placeholder"
      ],
      "execution_count": 0,
      "outputs": []
    },
    {
      "cell_type": "code",
      "metadata": {
        "id": "aaODzaMaW5A-",
        "colab_type": "code",
        "colab": {}
      },
      "source": [
        "# Find the sources that are in the fields.\n",
        "# Make a list \"true_catalog\" which is a set of field-object pairs.\n",
        "vecs = Truth.vecs - Observer.vec[None, :] # vectors from Observer to sources\n",
        "distances = np.sqrt(np.sum(vecs * vecs, axis=1)) # kpc\n",
        "duvecs = vecs / distances[:, None]\n",
        "true_catalog = []\n",
        "n_infield = np.zeros(Observer.M)\n",
        "for field in range(Observer.M):\n",
        "  uvec = Observer.uvecs[field, :]\n",
        "  infield = np.sum(duvecs * uvec[None, :], axis=1) > Observer.cos_radius\n",
        "  n_infield[field] = np.sum(infield)\n",
        "  true_catalog += [(field, trueid, duvecs[trueid], distances[trueid]) for trueid in Truth.trueids[infield]]\n",
        "print(true_catalog[0:8])"
      ],
      "execution_count": 0,
      "outputs": []
    },
    {
      "cell_type": "code",
      "metadata": {
        "id": "fULXX0YJdcOR",
        "colab_type": "code",
        "colab": {}
      },
      "source": [
        "# Now it is time to \"observe\" the objects.\n",
        "# This will happen in stages.\n",
        "\n",
        "# First, measure noisy magnitudes and noisy distances and cut on the measurements.\n",
        "# This will make the \"imaging_catalog\".\n",
        "brightlim = 8. # mag\n",
        "faintlim = 15. # mag\n",
        "magerr = 0.02 # mag\n",
        "\n",
        "imaging_catalog = []\n",
        "for field, trueid, uvec, distance in true_catalog:\n",
        "  DMtrue = 5. * np.log10(distance / 0.01) # 0.01 kpc is 10 pc\n",
        "  m = Truth.Ms[trueid] + DMtrue + magerr * np.random.normal()\n",
        "  if m > brightlim and m < faintlim:\n",
        "    imaging_catalog += [(field, trueid, uvec, m, DMtrue), ]\n",
        "  \n",
        "print(len(imaging_catalog))\n",
        "print(imaging_catalog[0:8])\n",
        "ifields = np.array([foo[0] for foo in imaging_catalog])\n",
        "print(np.bincount(ifields, minlength=Observer.M))"
      ],
      "execution_count": 0,
      "outputs": []
    },
    {
      "cell_type": "code",
      "metadata": {
        "id": "9wHgx9xUjiP0",
        "colab_type": "code",
        "colab": {}
      },
      "source": [
        "# Second, go to each field, select AT MOST 32 per field, and take spectra.\n",
        "# These spectra deliver noisy measurements of DM\n",
        "# This will make the \"spectroscopic_catalog\"\n",
        "DMerr = 0.2 # mag\n",
        "max_per_field = 32\n",
        "\n",
        "spectroscopic_catalog = []\n",
        "number_per_field = np.zeros(Observer.M).astype(int)\n",
        "for field, trueid, uvec, m, DMtrue in imaging_catalog:\n",
        "  if number_per_field[field] < max_per_field:\n",
        "    number_per_field[field] += 1\n",
        "    DM = DMtrue + DMerr * np.random.normal()\n",
        "    spectroscopic_catalog += [(field, trueid, uvec, m, DM)]\n",
        "    \n",
        "print(len(spectroscopic_catalog))\n",
        "print(spectroscopic_catalog[:10])"
      ],
      "execution_count": 0,
      "outputs": []
    },
    {
      "cell_type": "code",
      "metadata": {
        "id": "3MBH7NFcpM4f",
        "colab_type": "code",
        "colab": {}
      },
      "source": [
        "# Compute spectroscopic completeness\n",
        "# Note the issue that if there are zero in the imaging, the spectroscopic \n",
        "# completeness is 1.0 not 0.0!\n",
        "ifields = np.array([foo[0] for foo in imaging_catalog])\n",
        "sfields = np.array([foo[0] for foo in spectroscopic_catalog])\n",
        "numerator   = np.clip(np.bincount(sfields, minlength=Observer.M), 0.5, np.inf)\n",
        "denominator = np.clip(np.bincount(ifields, minlength=Observer.M), 0.5, np.inf)\n",
        "spec_completeness = numerator / denominator\n",
        "print(spec_completeness)\n",
        "Observer.completeness = spec_completeness"
      ],
      "execution_count": 0,
      "outputs": []
    },
    {
      "cell_type": "code",
      "metadata": {
        "id": "WG2kC4ZQyUm_",
        "colab_type": "code",
        "colab": {}
      },
      "source": [
        "# Make a trivial object to hold the spectroscopic catalog\n",
        "class Catalog(object):\n",
        "  N = len(spectroscopic_catalog)\n",
        "  fields  = np.array([foo[0] for foo in spectroscopic_catalog])\n",
        "  trueids = np.array([foo[1] for foo in spectroscopic_catalog])\n",
        "  uvecs   = np.array([foo[2] for foo in spectroscopic_catalog])\n",
        "  ms      = np.array([foo[3] for foo in spectroscopic_catalog])\n",
        "  DMs     = np.array([foo[4] for foo in spectroscopic_catalog])\n",
        "print(Catalog.N, Catalog.fields.shape, Catalog.uvecs.shape, Catalog.DMs.shape)"
      ],
      "execution_count": 0,
      "outputs": []
    },
    {
      "cell_type": "code",
      "metadata": {
        "id": "VjwROwOcx6xU",
        "colab_type": "code",
        "colab": {}
      },
      "source": [
        "# Check the catalog.\n",
        "distances = 0.01 * 10. ** (0.2 * Catalog.DMs) # kpc\n",
        "poss = distances[:, None] * Catalog.uvecs\n",
        "plt.figure()\n",
        "plt.scatter(poss[:, 0], poss[:, 2], s= 0.1, c=\"k\", alpha=0.9)\n",
        "plt.axis(\"equal\")\n",
        "plt.xlabel(r\"$x$ (kpc)\")\n",
        "plt.ylabel(r\"$z$ (kpc)\")\n",
        "plt.figure()\n",
        "plt.scatter(poss[:, 0], poss[:, 1], s= 0.1, c=\"k\", alpha=0.9)\n",
        "plt.axis(\"equal\")\n",
        "plt.xlabel(r\"$x$ (kpc)\")\n",
        "plt.ylabel(r\"$y$ (kpc)\")\n",
        "\n",
        "def plot_fields(Ob, lw=0.5, alpha=0.3, alphal=0.9, zorder=0):\n",
        "  for uvec, comp in zip(Ob.uvecs, Ob.completeness):\n",
        "    # make orthogonal vectors; slightly unsafe\n",
        "    v1 = np.cross(uvec, [0., 0., 1.])\n",
        "    v1 /= np.sqrt(np.dot(v1, v1))\n",
        "    v2 = np.cross(uvec, v1)\n",
        "    thetas = np.arange(0., 2. * np.pi + 0.00001, 0.001 * np.pi)\n",
        "    uvecs = uvec[None, :] + np.tan(Ob.radius) \\\n",
        "          * (np.cos(thetas)[:, None] * v1[None, :]\n",
        "           + np.sin(thetas)[:, None] * v2[None, :])\n",
        "    uvecs /= np.sqrt(np.sum(uvecs * uvecs, axis=1))[:, None]\n",
        "    ls = np.arctan2(uvecs[:, 1], uvecs[:, 0])\n",
        "    bs = np.arcsin(uvecs[:, 2])\n",
        "    if np.max(ls) - np.min(ls) > 1.9 * np.pi:\n",
        "      ls[ls < 0.] += 2. * np.pi\n",
        "      plt.fill(ls, bs, c=\"r\", alpha=alpha*comp, zorder=zorder, lw=0)\n",
        "      plt.plot(ls, bs, \"r-\",  alpha=alphal,     zorder=zorder, lw=lw)\n",
        "      ls -= 2. * np.pi\n",
        "    plt.fill(  ls, bs, c=\"r\", alpha=alpha*comp, zorder=zorder, lw=0)\n",
        "    plt.plot(  ls, bs, \"r-\",  alpha=alphal,     zorder=zorder, lw=lw)\n",
        "\n",
        "plt.figure(figsize=(12, 6))\n",
        "plt.scatter(np.arctan2(Catalog.uvecs[:, 1], Catalog.uvecs[:, 0]),\n",
        "            np.arcsin(Catalog.uvecs[:, 2]), s=0.5, c=\"k\", alpha=0.9)\n",
        "plot_fields(Observer, zorder=-np.inf)\n",
        "plt.xlabel(r\"$\\ell$ (rad)\")\n",
        "plt.ylabel(r\"$b$ (rad)\")\n",
        "plt.xlim(-np.pi, np.pi)\n",
        "plt.ylim(-0.5 * np.pi, 0.5 * np.pi)"
      ],
      "execution_count": 0,
      "outputs": []
    },
    {
      "cell_type": "code",
      "metadata": {
        "id": "8h_Vohzbz0vs",
        "colab_type": "code",
        "colab": {}
      },
      "source": [
        ""
      ],
      "execution_count": 0,
      "outputs": []
    }
  ]
}